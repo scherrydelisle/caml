{
  "nbformat": 4,
  "nbformat_minor": 0,
  "metadata": {
    "colab": {
      "provenance": [],
      "toc_visible": true
    },
    "kernelspec": {
      "name": "python3",
      "display_name": "Python 3"
    },
    "language_info": {
      "name": "python"
    }
  },
  "cells": [
    {
      "cell_type": "markdown",
      "source": [
        "# Manufacturing Processes HW: Widget Production\n",
        "_Author: Simone Cherry-Delisle_"
      ],
      "metadata": {
        "id": "sR-w6CcWFEbG"
      }
    },
    {
      "cell_type": "code",
      "execution_count": 1,
      "metadata": {
        "id": "C11m5r5u0Tth"
      },
      "outputs": [],
      "source": [
        "!pip install -q pymannkendall\n",
        "!pip install -q rpy2\n",
        "\n",
        "import numpy as np\n",
        "import pandas as pd\n",
        "import pymannkendall as mk\n",
        "from scipy.stats import chi2_contingency\n",
        "\n",
        "%load_ext rpy2.ipython"
      ]
    },
    {
      "cell_type": "code",
      "source": [
        "%%R\n",
        "invisible(install.packages(\"qcc\"))\n",
        "library(qcc)"
      ],
      "metadata": {
        "colab": {
          "base_uri": "https://localhost:8080/",
          "height": 294
        },
        "id": "ReNfgUq5-zw8",
        "outputId": "c89c82a4-5f3c-49b8-b52a-92ca47d7160f"
      },
      "execution_count": 2,
      "outputs": [
        {
          "output_type": "display_data",
          "data": {
            "text/plain": [
              "Installing package into ‘/usr/local/lib/R/site-library’\n",
              "(as ‘lib’ is unspecified)\n",
              "trying URL 'https://cran.rstudio.com/src/contrib/qcc_2.7.tar.gz'\n",
              "Content type 'application/x-gzip' length 3307174 bytes (3.2 MB)\n",
              "==================================================\n",
              "downloaded 3.2 MB\n",
              "\n",
              "\n",
              "The downloaded source packages are in\n",
              "\t‘/tmp/RtmpPGjmTY/downloaded_packages’\n",
              "  __ _  ___ ___ \n",
              " / _  |/ __/ __|  Quality Control Charts and \n",
              "| (_| | (_| (__   Statistical Process Control\n",
              " \\__  |\\___\\___|\n",
              "    |_|           version 2.7\n",
              "Type 'citation(\"qcc\")' for citing this R package in publications.\n"
            ]
          },
          "metadata": {}
        }
      ]
    },
    {
      "cell_type": "markdown",
      "source": [
        "Assume that the occurrence of defective widgets $X$ may be described as an i.i.d. sequence of Bernoulli trials, each with probability $0.03$ of defect; that is, $X\\ \\sim Bin\\left(\\ n,\\ p=0.03\\ \\right)$. Addionally, assume that the sampling rate is $200$ widgets per hour and that the production rate is $1000$ widgets per hour.\n",
        "\n",
        "(*Note: Here, I modified the sample rate from $50$ widgets per hour to eliminate the problem of observing fractional defect counts.*)"
      ],
      "metadata": {
        "id": "RE33Xf10-OE4"
      }
    },
    {
      "cell_type": "markdown",
      "source": [
        "# Question on Trend Analysis:\n",
        "Over three consecutive hours, the defect rates observed are 2%, 3.5%, and 1.5%. Analyze the trend and propose potential reasons for variations."
      ],
      "metadata": {
        "id": "kPUQlpjgCGTB"
      }
    },
    {
      "cell_type": "markdown",
      "source": [
        "# Solution\n",
        "\n",
        "For hour $i\\in \\{1,2,3\\}$, let $\\hat{p}_{i}$ be the sample proportion of defects over $i$, $n_i$ be the number of samples over $i$, and $x_i$ be the number of defects over $i$. But $\\hat{p}_{1}=0.02$, $\\hat{p}_{2}=0.035$, $\\hat{p}_{3}=0.015$, and $n_1 = n_2 = n_3 = 200$, from which it follows that the number of defects are $x_{1}=4$, $x_{2}=7$, and $x_{3}=3$ and the number of non-defects are $n_{1} - x_{1}=196$, $n_{2} - x_{2}=193$, and $n_{3} - x_{3}=197$.\n",
        "\n"
      ],
      "metadata": {
        "id": "_Dp8ZjSfCjOK"
      }
    },
    {
      "cell_type": "code",
      "source": [
        "data = {\n",
        "    'Hr 1':[4, 196],\n",
        "    'Hr 2':[7, 193],\n",
        "    'Hr 3':[3, 197],\n",
        "}\n",
        "\n",
        "df1 = pd.DataFrame(data, index=['defective', 'non_defective'])\n",
        "print(df1)"
      ],
      "metadata": {
        "colab": {
          "base_uri": "https://localhost:8080/",
          "height": 0
        },
        "id": "EAE9yWVNHoeG",
        "outputId": "23b3282e-6f3f-4945-9667-f5cf9c46545c"
      },
      "execution_count": 3,
      "outputs": [
        {
          "output_type": "stream",
          "name": "stdout",
          "text": [
            "               Hr 1  Hr 2  Hr 3\n",
            "defective         4     7     3\n",
            "non_defective   196   193   197\n"
          ]
        }
      ]
    },
    {
      "cell_type": "markdown",
      "source": [
        "## $\\chi^{2}$ Test for Homogeneity\n",
        "\n",
        "Using the $\\chi^{2}$ test for homogeneity, we test the null hypothesis of equality of defect proportions\n",
        "\n",
        "$$ H_{0} : p_{1} = p_{2} \\text{ and } p_{2} = p_{3} \\text{ and } p_{1} = p_{3}$$\n",
        "\n",
        "against the alternative hypothesis of inequality\n",
        "\n",
        "$$ H_{A} : p_{1} \\neq p_{2} \\text{ or } p_{2} \\neq p_{3} \\text{ or } p_{1} \\neq p_{3}$$\n",
        "\n",
        "at the $\\alpha = 0.05$ level of significance.  "
      ],
      "metadata": {
        "id": "Z5ok7sVJ00Mm"
      }
    },
    {
      "cell_type": "code",
      "source": [
        "chi2, p_val, dof, expected = chi2_contingency(df1)\n",
        "\n",
        "print(f\"\\nChi-squared statistic: {chi2:.4f}\")\n",
        "print(f\"Degrees of freedom: {dof}\")\n",
        "print(f\"P-value: {p_val:.4f}\")\n",
        "\n",
        "expected_df1 = pd.DataFrame(expected, index=df1.index, columns=df1.columns)\n",
        "print(\"\\nExpected Frequencies:\")\n",
        "print(expected_df1)"
      ],
      "metadata": {
        "colab": {
          "base_uri": "https://localhost:8080/",
          "height": 0
        },
        "id": "zlCOEAYZ0hDh",
        "outputId": "9913a519-47f7-4d11-9b68-4c2dfe75eeb9"
      },
      "execution_count": 4,
      "outputs": [
        {
          "output_type": "stream",
          "name": "stdout",
          "text": [
            "\n",
            "Chi-squared statistic: 1.9015\n",
            "Degrees of freedom: 2\n",
            "P-value: 0.3864\n",
            "\n",
            "Expected Frequencies:\n",
            "                     Hr 1        Hr 2        Hr 3\n",
            "defective        4.666667    4.666667    4.666667\n",
            "non_defective  195.333333  195.333333  195.333333\n"
          ]
        }
      ]
    },
    {
      "cell_type": "markdown",
      "source": [
        "As the p-value is greater than $0.05$, we fail to reject the null hypothesis of equality of defect proportions\n",
        "\n",
        "$$ H_{0} : p_{1} = p_{2} \\text{ and } p_{2} = p_{3} \\text{ and } p_{1} = p_{3}$$\n",
        "\n",
        "at the $\\alpha = 0.05$ level of significance.  "
      ],
      "metadata": {
        "id": "za7UztkQoTm2"
      }
    },
    {
      "cell_type": "markdown",
      "source": [
        "## Mann-Kendall Test\n",
        "\n",
        "We apply the double-sided Mann-Kendall test for monotonic trend in defect proportions under the assumption that the series of defect proportions is not serially autocorrelated. We test the null hypothesis of no monotonic trend\n",
        "\n",
        "$$ H_{0} : p_{1}, p_{2}, p_{3} \\text{ are i.i.d.}$$\n",
        "\n",
        "against the alternative hypothesis\n",
        "\n",
        "$$ H_{A} : \\text{There exists a monotonic trend (either increasing or decreasing)}$$\n",
        "\n",
        "at the $\\alpha = 0.05$ level of significance.  \n",
        "\n"
      ],
      "metadata": {
        "id": "g2xBx05evcsf"
      }
    },
    {
      "cell_type": "code",
      "source": [
        "df2 = df1.T\n",
        "df2[\"total_samples\"] = df2[\"defective\"] + df2[\"non_defective\"]\n",
        "df2[\"proportion_defective\"] = df2[\"defective\"] / (df2[\"total_samples\"])\n",
        "print(df2)"
      ],
      "metadata": {
        "colab": {
          "base_uri": "https://localhost:8080/",
          "height": 0
        },
        "id": "sAzdjqg6vbeL",
        "outputId": "a095490b-ec18-4e8a-9123-9026b2baf03a"
      },
      "execution_count": 5,
      "outputs": [
        {
          "output_type": "stream",
          "name": "stdout",
          "text": [
            "      defective  non_defective  total_samples  proportion_defective\n",
            "Hr 1          4            196            200                 0.020\n",
            "Hr 2          7            193            200                 0.035\n",
            "Hr 3          3            197            200                 0.015\n"
          ]
        }
      ]
    },
    {
      "cell_type": "code",
      "source": [
        "result = mk.original_test(df2[\"proportion_defective\"], alpha=0.05)\n",
        "print(f\"P-value: {result.p:.4f}\")"
      ],
      "metadata": {
        "colab": {
          "base_uri": "https://localhost:8080/",
          "height": 0
        },
        "id": "Rmamo_1m03s2",
        "outputId": "02beb2be-f6f7-43c9-fc5d-50bb9dab6f10"
      },
      "execution_count": 6,
      "outputs": [
        {
          "output_type": "stream",
          "name": "stdout",
          "text": [
            "P-value: 1.0000\n"
          ]
        }
      ]
    },
    {
      "cell_type": "markdown",
      "source": [
        "As the p-value is greater than $0.05$, we fail to reject the null hypothesis\n",
        "\n",
        "$$ H_{0} : p_{1}, p_{2}, p_{3} \\text{ are i.i.d.}$$\n",
        "\n",
        "at the $\\alpha = 0.05$ level of significance.  "
      ],
      "metadata": {
        "id": "oU4WZNMf1nWt"
      }
    },
    {
      "cell_type": "markdown",
      "source": [
        "## p-Chart\n",
        "\n",
        "We plot a Shewart proportion chart to monitor the proportions of defective samples $\\hat{p}_{i}$ over the hours $i\\in \\{1,2,3\\}$ under the control limits\n",
        "\n",
        "$$ \\bar{p} \\pm 3\\sqrt{\\frac{\\bar{p}\\left(1-\\bar{p}\\right)}{n}}.$$"
      ],
      "metadata": {
        "id": "pQu__Sim9S8_"
      }
    },
    {
      "cell_type": "code",
      "source": [
        "%R -i df2"
      ],
      "metadata": {
        "id": "z6n9FYP199jv"
      },
      "execution_count": 7,
      "outputs": []
    },
    {
      "cell_type": "code",
      "source": [
        "%%R\n",
        "\n",
        "Defectives <- df2$defective\n",
        "Samples <- df2$total_samples\n",
        "\n",
        "p_chart <- qcc(Defectives, sizes = Samples, type = \"p\")"
      ],
      "metadata": {
        "colab": {
          "base_uri": "https://localhost:8080/",
          "height": 497
        },
        "id": "EFQ6mrvd9e7m",
        "outputId": "e5d2ba48-ed2b-4bcb-ebd3-88ff0677ad24"
      },
      "execution_count": 8,
      "outputs": [
        {
          "output_type": "display_data",
          "data": {
            "image/png": "[encoded data removed]",
            "text/plain": [
              "<IPython.core.display.Image object>"
            ]
          },
          "metadata": {}
        }
      ]
    },
    {
      "cell_type": "markdown",
      "source": [
        "Because the proportions of defective samples $\\hat{p}_{i}$ fall within the control limits, the p-chart suggests that the process is in control."
      ],
      "metadata": {
        "id": "iCdh9wDPBXQc"
      }
    },
    {
      "cell_type": "markdown",
      "source": [
        "## Conclusion\n",
        "\n",
        "The results of the $\\chi^{2}$ test for homogeneity, the Mann-Kendall test for monotonicity, as well as the Shewart p-chart suggest that the proportion of defective widgets observed remains stable over the interval the process was observed. Further sampling may be needed to confirm the stability of this process."
      ],
      "metadata": {
        "id": "PQA1keFaCHas"
      }
    }
  ]
}