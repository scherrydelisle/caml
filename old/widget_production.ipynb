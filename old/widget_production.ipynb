{
  "nbformat": 4,
  "nbformat_minor": 0,
  "metadata": {
    "colab": {
      "provenance": [],
      "toc_visible": true
    },
    "kernelspec": {
      "name": "python3",
      "display_name": "Python 3"
    },
    "language_info": {
      "name": "python"
    }
  },
  "cells": [
    {
      "cell_type": "code",
      "execution_count": null,
      "metadata": {
        "id": "C11m5r5u0Tth"
      },
      "outputs": [],
      "source": [
        "import pandas as pd\n",
        "import numpy as np\n",
        "from scipy.stats import chi2_contingency"
      ]
    },
    {
      "cell_type": "markdown",
      "source": [
        "Assume that the occurrence of defective widgets $X$ may be described as an i.i.d. sequence of Bernoulli trials, each with probability $0.03$ of defect; that is, $X\\ \\sim Bin\\left(\\ n,\\ p=0.03\\ \\right)$. Addionally, assume that the sampling rate is $200$ widgets per hour and that the production rate is $1000$ widgets per hour.\n",
        "\n",
        "(*Note: Here, I modified the sample rate from $50$ widgets per hour to eliminate the problem of observing fractional defect counts.*)"
      ],
      "metadata": {
        "id": "RE33Xf10-OE4"
      }
    },
    {
      "cell_type": "markdown",
      "source": [
        "# Question:\n",
        "Over three consecutive hours, the defect rates observed are 2%, 3.5%, and 1.5%. Analyze the trend and propose potential reasons for variations."
      ],
      "metadata": {
        "id": "kPUQlpjgCGTB"
      }
    },
    {
      "cell_type": "markdown",
      "source": [
        "# Solution\n",
        "\n",
        "For hour $i\\in \\{1,2,3\\}$, let $\\hat{p}_{i}$ be the sample proportion of defects over $i$, $n_i$ be the number of samples over $i$, and $x_i$ be the number of defects over $i$. But $\\hat{p}_{1}=0.02$, $\\hat{p}_{2}=0.035$, $\\hat{p}_{3}=0.015$, and $n_1 = n_2 = n_3 = 200$, from which it follows that the number of defects are $x_{1}=4$, $x_{2}=7$, and $x_{3}=3$ and the number of non-defects are $n_{1} - x_{1}=196$, $n_{2} - x_{2}=193$, and $n_{3} - x_{3}=197$.\n",
        "\n"
      ],
      "metadata": {
        "id": "_Dp8ZjSfCjOK"
      }
    },
    {
      "cell_type": "code",
      "source": [
        "data = {\n",
        "    'Hr 1':[4, 196],\n",
        "    'Hr 2':[7, 193],\n",
        "    'Hr 3':[3, 197],\n",
        "}\n",
        "\n",
        "df = pd.DataFrame(data, index=['Defective', 'Non-Defective'])\n",
        "print(df)"
      ],
      "metadata": {
        "colab": {
          "base_uri": "https://localhost:8080/"
        },
        "id": "EAE9yWVNHoeG",
        "outputId": "c8abadbb-1d4f-4fac-82d6-56f2cb7eab80"
      },
      "execution_count": null,
      "outputs": [
        {
          "output_type": "stream",
          "name": "stdout",
          "text": [
            "               Hr 1  Hr 2  Hr 3\n",
            "Defective         4     7     3\n",
            "Non-Defective   196   193   197\n"
          ]
        }
      ]
    },
    {
      "cell_type": "markdown",
      "source": [
        "## $\\chi^{2}$ Test for Homogeneity\n",
        "\n",
        "Using the $\\chi^{2}$ Test for Homogeneity, we test the null hypothesis\n",
        "\n",
        "$$ H_{0} : p_{1} = p_{2} \\text{ and } p_{2} = p_{3} \\text{ and } p_{1} = p_{3}$$\n",
        "\n",
        "against the alternative hypothesis\n",
        "\n",
        "$$ H_{A} : p_{1} \\neq p_{2} \\text{ or } p_{2} \\neq p_{3} \\text{ or } p_{1} \\neq p_{3}$$\n",
        "\n",
        "at the $\\alpha = 0.05$ level of significance.  "
      ],
      "metadata": {
        "id": "Z5ok7sVJ00Mm"
      }
    },
    {
      "cell_type": "code",
      "source": [
        "chi2, p_val, dof, expected = chi2_contingency(df)\n",
        "\n",
        "print(f\"\\nChi-squared statistic: {chi2:.4f}\")\n",
        "print(f\"Degrees of freedom: {dof}\")\n",
        "print(f\"P-value: {p_val:.4f}\")\n",
        "\n",
        "expected_df = pd.DataFrame(expected, index=df.index, columns=df.columns)\n",
        "print(\"\\nExpected Frequencies:\")\n",
        "print(expected_df)"
      ],
      "metadata": {
        "colab": {
          "base_uri": "https://localhost:8080/"
        },
        "id": "zlCOEAYZ0hDh",
        "outputId": "440ec97d-fabc-4e2e-d25d-791f3e39a5de"
      },
      "execution_count": null,
      "outputs": [
        {
          "output_type": "stream",
          "name": "stdout",
          "text": [
            "\n",
            "Chi-squared statistic: 1.9015\n",
            "Degrees of freedom: 2\n",
            "P-value: 0.3864\n",
            "\n",
            "Expected Frequencies:\n",
            "                     Hr 1        Hr 2        Hr 3\n",
            "Defective        4.666667    4.666667    4.666667\n",
            "Non-Defective  195.333333  195.333333  195.333333\n"
          ]
        }
      ]
    }
  ]
}